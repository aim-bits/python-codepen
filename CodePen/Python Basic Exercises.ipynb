{
 "cells": [
  {
   "cell_type": "code",
   "execution_count": 1,
   "id": "cd97c19e",
   "metadata": {},
   "outputs": [
    {
     "name": "stdout",
     "output_type": "stream",
     "text": [
      "\n",
      "Twinkle, twinkle, little star,\n",
      "        How I wonder what you are!\n",
      "                Up above the world so high,\n",
      "                Like a diamond in the sky.\n",
      "Twinkle, twinkle, little star,\n",
      "        How I wonder what you are\n",
      "\n"
     ]
    }
   ],
   "source": [
    "print(\"\"\"\n",
    "Twinkle, twinkle, little star,\n",
    "        How I wonder what you are!\n",
    "                Up above the world so high,\n",
    "                Like a diamond in the sky.\n",
    "Twinkle, twinkle, little star,\n",
    "        How I wonder what you are\n",
    "\"\"\")"
   ]
  },
  {
   "cell_type": "code",
   "execution_count": 1,
   "id": "e8a3e57b",
   "metadata": {},
   "outputs": [
    {
     "name": "stdout",
     "output_type": "stream",
     "text": [
      "{'favour': 2, 'is': 1, 'a': 3, 'girl': 2, 'that': 1, 'goes': 1, 'with': 1, 'boy': 1, 'and': 1, 'loves': 1}\n"
     ]
    }
   ],
   "source": [
    "#CONVERTING A STRING TO DICTIONARY\n",
    "\n",
    "str = \"favour is a girl that goes with a boy and favour loves a girl\"\n",
    "strDict = {}\n",
    "for word in str.split():\n",
    "    if word in strDict:\n",
    "        strDict[word] += 1\n",
    "    else:\n",
    "        strDict[word] = 1\n",
    "print(strDict)"
   ]
  },
  {
   "cell_type": "code",
   "execution_count": 10,
   "id": "8256004e",
   "metadata": {},
   "outputs": [
    {
     "name": "stdout",
     "output_type": "stream",
     "text": [
      "Type in a word of your choice: hello\n",
      "Type in a word of your choice: good\n"
     ]
    },
    {
     "data": {
      "text/plain": [
       "False"
      ]
     },
     "execution_count": 10,
     "metadata": {},
     "output_type": "execute_result"
    }
   ],
   "source": [
    "def find_anagrams(word):\n",
    "    # [assignment] Add your code here\n",
    "    string1 = input(\"Type in a word of your choice: \")\n",
    "    string2 = input(\"Type in a word of your choice: \")\n",
    "    \n",
    "    if string1 in string2 or ''.join(reversed(string1)) == string2:\n",
    "        return True\n",
    "    else: \n",
    "        return False\n",
    "\n",
    "    \n",
    "find_anagrams('word')    "
   ]
  },
  {
   "cell_type": "code",
   "execution_count": null,
   "id": "11a650a0",
   "metadata": {},
   "outputs": [],
   "source": []
  },
  {
   "cell_type": "code",
   "execution_count": 13,
   "id": "826ca4f2",
   "metadata": {},
   "outputs": [
    {
     "name": "stdout",
     "output_type": "stream",
     "text": [
      "Python Version\n",
      "<module 'sys' (built-in)>\n",
      "3.9.7 (default, Sep 16 2021, 16:59:28) [MSC v.1916 64 bit (AMD64)]\n",
      "sys.version_info(major=3, minor=9, micro=7, releaselevel='final', serial=0)\n"
     ]
    }
   ],
   "source": [
    "import sys\n",
    "print(\"Python Version\")\n",
    "print(sys)\n",
    "print(sys.version)\n",
    "print(sys.version_info)"
   ]
  },
  {
   "cell_type": "code",
   "execution_count": 7,
   "id": "08adcc62",
   "metadata": {},
   "outputs": [
    {
     "name": "stdout",
     "output_type": "stream",
     "text": [
      "2022-05-23 16:27:56.030303\n"
     ]
    }
   ],
   "source": [
    "import datetime\n",
    "\n",
    "print(datetime.datetime.now())"
   ]
  },
  {
   "cell_type": "code",
   "execution_count": 18,
   "id": "1b434423",
   "metadata": {},
   "outputs": [
    {
     "name": "stdout",
     "output_type": "stream",
     "text": [
      "Please input your radius value: 1.1\n",
      "3.8018200000000006\n"
     ]
    }
   ],
   "source": [
    "r = float(input(\"Please input your radius value: \"))\n",
    "pi = 3.142\n",
    "\n",
    "area_of_circle = pi * (r**2)\n",
    "print(area_of_circle)"
   ]
  },
  {
   "cell_type": "code",
   "execution_count": 21,
   "id": "d947e748",
   "metadata": {},
   "outputs": [
    {
     "name": "stdout",
     "output_type": "stream",
     "text": [
      "First name: Mike\n",
      "Last name: akor\n",
      "akor   Mike\n"
     ]
    }
   ],
   "source": [
    "first_name = input(\"First name: \")\n",
    "last_name= input(\"Last name: \")\n",
    "\n",
    "print(last_name, \" \", first_name)"
   ]
  },
  {
   "cell_type": "code",
   "execution_count": 2,
   "id": "3206a3b9",
   "metadata": {},
   "outputs": [
    {
     "name": "stdout",
     "output_type": "stream",
     "text": [
      "24, 58, 8, 9, 7\n",
      "you inputed  5  numbers\n",
      "['24', ' 58', ' 8', ' 9', ' 7']\n",
      "('24', ' 58', ' 8', ' 9', ' 7')\n"
     ]
    }
   ],
   "source": [
    "numbers = input()\n",
    "List = numbers.split(\",\")\n",
    "Tuple = tuple(List)\n",
    "amount = len(List)\n",
    "print(\"you inputed \",amount, \" numbers\" )\n",
    "print(List)\n",
    "print(Tuple)"
   ]
  },
  {
   "cell_type": "code",
   "execution_count": 3,
   "id": "65ee4967",
   "metadata": {},
   "outputs": [
    {
     "name": "stdout",
     "output_type": "stream",
     "text": [
      "test\n",
      ".txt\n"
     ]
    }
   ],
   "source": [
    "import os\n",
    "\n",
    "filename, file_extension = os.path.splitext(\"test.txt\")\n",
    "print(filename)\n",
    "print(file_extension)\n",
    "\n"
   ]
  },
  {
   "cell_type": "code",
   "execution_count": 8,
   "id": "a68e0643",
   "metadata": {},
   "outputs": [
    {
     "name": "stdout",
     "output_type": "stream",
     "text": [
      "Red Black\n"
     ]
    }
   ],
   "source": [
    "color_list = [\"Red\",\"Green\",\"White\" ,\"Black\"]\n",
    "print(color_list[0], color_list[-1])"
   ]
  },
  {
   "cell_type": "code",
   "execution_count": 13,
   "id": "73825269",
   "metadata": {},
   "outputs": [
    {
     "name": "stdout",
     "output_type": "stream",
     "text": [
      "the exam date is 11 / 12 / 2014 \n"
     ]
    }
   ],
   "source": [
    "exam_st_date = (11, 12, 2014)\n",
    "print(\"the exam date is %i / %i / %i \"%exam_st_date)"
   ]
  },
  {
   "cell_type": "code",
   "execution_count": 3,
   "id": "f0da50cc",
   "metadata": {},
   "outputs": [
    {
     "name": "stdout",
     "output_type": "stream",
     "text": [
      "5\n",
      "615\n"
     ]
    }
   ],
   "source": [
    "num = int(input())\n",
    "n1 = int(\"%s \" % n)\n",
    "n2 = int(\"%s%s\" % (n,n))\n",
    "n3 = int(\"%s%s%s\" %(n,n,n))\n",
    "result = n1+n2+n3\n",
    "print(result)"
   ]
  },
  {
   "cell_type": "code",
   "execution_count": 5,
   "id": "97c1208f",
   "metadata": {},
   "outputs": [
    {
     "name": "stdout",
     "output_type": "stream",
     "text": [
      "      May 2022\n",
      "Mo Tu We Th Fr Sa Su\n",
      "                   1\n",
      " 2  3  4  5  6  7  8\n",
      " 9 10 11 12 13 14 15\n",
      "16 17 18 19 20 21 22\n",
      "23 24 25 26 27 28 29\n",
      "30 31\n",
      "\n"
     ]
    }
   ],
   "source": [
    "import calendar\n",
    "\n",
    "yy = 2022\n",
    "mm = 5\n",
    "\n",
    "print(calendar.month(yy, mm))"
   ]
  },
  {
   "cell_type": "code",
   "execution_count": 11,
   "id": "830cf92e",
   "metadata": {},
   "outputs": [
    {
     "name": "stdout",
     "output_type": "stream",
     "text": [
      "2931 days, 0:00:00\n"
     ]
    }
   ],
   "source": [
    "import datetime\n",
    "\n",
    "f_date = datetime.date(2014,7,2)\n",
    "l_date = datetime.date(2022,7,11)\n",
    "delta = l_date - f_date\n",
    "print(delta)"
   ]
  },
  {
   "cell_type": "code",
   "execution_count": 15,
   "id": "9375800a",
   "metadata": {},
   "outputs": [
    {
     "name": "stdout",
     "output_type": "stream",
     "text": [
      "22\n",
      "5\n",
      "we leave it like that\n"
     ]
    }
   ],
   "source": [
    "num = int(input())\n",
    "diff = num - 17\n",
    "\n",
    "if diff > 17:\n",
    "    print(2 * diff)\n",
    "else:\n",
    "    print(diff)\n",
    "    print(\"we leave it like that\")"
   ]
  },
  {
   "cell_type": "code",
   "execution_count": 16,
   "id": "679abd02",
   "metadata": {},
   "outputs": [
    {
     "name": "stdout",
     "output_type": "stream",
     "text": [
      "oauie\n"
     ]
    }
   ],
   "source": [
    "import random\n",
    "char_list = ['a','e','i','o','u']\n",
    "random.shuffle(char_list)\n",
    "print(''.join(char_list))"
   ]
  },
  {
   "cell_type": "code",
   "execution_count": 41,
   "id": "206d13e0",
   "metadata": {},
   "outputs": [
    {
     "name": "stdout",
     "output_type": "stream",
     "text": [
      "multiples of 5 are:  1500\n",
      "numbers divisible by 7 are:  1505\n",
      "multiples of 5 are:  1505\n",
      "multiples of 5 are:  1510\n",
      "numbers divisible by 7 are:  1512\n",
      "multiples of 5 are:  1515\n",
      "numbers divisible by 7 are:  1519\n",
      "multiples of 5 are:  1520\n",
      "multiples of 5 are:  1525\n",
      "numbers divisible by 7 are:  1526\n",
      "multiples of 5 are:  1530\n",
      "numbers divisible by 7 are:  1533\n",
      "multiples of 5 are:  1535\n",
      "numbers divisible by 7 are:  1540\n",
      "multiples of 5 are:  1540\n",
      "multiples of 5 are:  1545\n",
      "numbers divisible by 7 are:  1547\n",
      "multiples of 5 are:  1550\n",
      "numbers divisible by 7 are:  1554\n",
      "multiples of 5 are:  1555\n",
      "multiples of 5 are:  1560\n",
      "numbers divisible by 7 are:  1561\n",
      "multiples of 5 are:  1565\n",
      "numbers divisible by 7 are:  1568\n",
      "multiples of 5 are:  1570\n",
      "numbers divisible by 7 are:  1575\n",
      "multiples of 5 are:  1575\n",
      "multiples of 5 are:  1580\n",
      "numbers divisible by 7 are:  1582\n",
      "multiples of 5 are:  1585\n",
      "numbers divisible by 7 are:  1589\n",
      "multiples of 5 are:  1590\n",
      "multiples of 5 are:  1595\n",
      "numbers divisible by 7 are:  1596\n",
      "multiples of 5 are:  1600\n",
      "numbers divisible by 7 are:  1603\n",
      "multiples of 5 are:  1605\n",
      "numbers divisible by 7 are:  1610\n",
      "multiples of 5 are:  1610\n",
      "multiples of 5 are:  1615\n",
      "numbers divisible by 7 are:  1617\n",
      "multiples of 5 are:  1620\n",
      "numbers divisible by 7 are:  1624\n",
      "multiples of 5 are:  1625\n",
      "multiples of 5 are:  1630\n",
      "numbers divisible by 7 are:  1631\n",
      "multiples of 5 are:  1635\n",
      "numbers divisible by 7 are:  1638\n",
      "multiples of 5 are:  1640\n",
      "numbers divisible by 7 are:  1645\n",
      "multiples of 5 are:  1645\n",
      "multiples of 5 are:  1650\n",
      "numbers divisible by 7 are:  1652\n",
      "multiples of 5 are:  1655\n",
      "numbers divisible by 7 are:  1659\n",
      "multiples of 5 are:  1660\n",
      "multiples of 5 are:  1665\n",
      "numbers divisible by 7 are:  1666\n",
      "multiples of 5 are:  1670\n",
      "numbers divisible by 7 are:  1673\n",
      "multiples of 5 are:  1675\n",
      "numbers divisible by 7 are:  1680\n",
      "multiples of 5 are:  1680\n",
      "multiples of 5 are:  1685\n",
      "numbers divisible by 7 are:  1687\n",
      "multiples of 5 are:  1690\n",
      "numbers divisible by 7 are:  1694\n",
      "multiples of 5 are:  1695\n",
      "multiples of 5 are:  1700\n",
      "numbers divisible by 7 are:  1701\n",
      "multiples of 5 are:  1705\n",
      "numbers divisible by 7 are:  1708\n",
      "multiples of 5 are:  1710\n",
      "numbers divisible by 7 are:  1715\n",
      "multiples of 5 are:  1715\n",
      "multiples of 5 are:  1720\n",
      "numbers divisible by 7 are:  1722\n",
      "multiples of 5 are:  1725\n",
      "numbers divisible by 7 are:  1729\n",
      "multiples of 5 are:  1730\n",
      "multiples of 5 are:  1735\n",
      "numbers divisible by 7 are:  1736\n",
      "multiples of 5 are:  1740\n",
      "numbers divisible by 7 are:  1743\n",
      "multiples of 5 are:  1745\n",
      "numbers divisible by 7 are:  1750\n",
      "multiples of 5 are:  1750\n",
      "multiples of 5 are:  1755\n",
      "numbers divisible by 7 are:  1757\n",
      "multiples of 5 are:  1760\n",
      "numbers divisible by 7 are:  1764\n",
      "multiples of 5 are:  1765\n",
      "multiples of 5 are:  1770\n",
      "numbers divisible by 7 are:  1771\n",
      "multiples of 5 are:  1775\n",
      "numbers divisible by 7 are:  1778\n",
      "multiples of 5 are:  1780\n",
      "numbers divisible by 7 are:  1785\n",
      "multiples of 5 are:  1785\n",
      "multiples of 5 are:  1790\n",
      "numbers divisible by 7 are:  1792\n",
      "multiples of 5 are:  1795\n",
      "numbers divisible by 7 are:  1799\n",
      "multiples of 5 are:  1800\n",
      "multiples of 5 are:  1805\n",
      "numbers divisible by 7 are:  1806\n",
      "multiples of 5 are:  1810\n",
      "numbers divisible by 7 are:  1813\n",
      "multiples of 5 are:  1815\n",
      "numbers divisible by 7 are:  1820\n",
      "multiples of 5 are:  1820\n",
      "multiples of 5 are:  1825\n",
      "numbers divisible by 7 are:  1827\n",
      "multiples of 5 are:  1830\n",
      "numbers divisible by 7 are:  1834\n",
      "multiples of 5 are:  1835\n",
      "multiples of 5 are:  1840\n",
      "numbers divisible by 7 are:  1841\n",
      "multiples of 5 are:  1845\n",
      "numbers divisible by 7 are:  1848\n",
      "multiples of 5 are:  1850\n",
      "numbers divisible by 7 are:  1855\n",
      "multiples of 5 are:  1855\n",
      "multiples of 5 are:  1860\n",
      "numbers divisible by 7 are:  1862\n",
      "multiples of 5 are:  1865\n",
      "numbers divisible by 7 are:  1869\n",
      "multiples of 5 are:  1870\n",
      "multiples of 5 are:  1875\n",
      "numbers divisible by 7 are:  1876\n",
      "multiples of 5 are:  1880\n",
      "numbers divisible by 7 are:  1883\n",
      "multiples of 5 are:  1885\n",
      "numbers divisible by 7 are:  1890\n",
      "multiples of 5 are:  1890\n",
      "multiples of 5 are:  1895\n",
      "numbers divisible by 7 are:  1897\n",
      "multiples of 5 are:  1900\n",
      "numbers divisible by 7 are:  1904\n",
      "multiples of 5 are:  1905\n",
      "multiples of 5 are:  1910\n",
      "numbers divisible by 7 are:  1911\n",
      "multiples of 5 are:  1915\n",
      "numbers divisible by 7 are:  1918\n",
      "multiples of 5 are:  1920\n",
      "numbers divisible by 7 are:  1925\n",
      "multiples of 5 are:  1925\n",
      "multiples of 5 are:  1930\n",
      "numbers divisible by 7 are:  1932\n",
      "multiples of 5 are:  1935\n",
      "numbers divisible by 7 are:  1939\n",
      "multiples of 5 are:  1940\n",
      "multiples of 5 are:  1945\n",
      "numbers divisible by 7 are:  1946\n",
      "multiples of 5 are:  1950\n",
      "numbers divisible by 7 are:  1953\n",
      "multiples of 5 are:  1955\n",
      "numbers divisible by 7 are:  1960\n",
      "multiples of 5 are:  1960\n",
      "multiples of 5 are:  1965\n",
      "numbers divisible by 7 are:  1967\n",
      "multiples of 5 are:  1970\n",
      "numbers divisible by 7 are:  1974\n",
      "multiples of 5 are:  1975\n",
      "multiples of 5 are:  1980\n",
      "numbers divisible by 7 are:  1981\n",
      "multiples of 5 are:  1985\n",
      "numbers divisible by 7 are:  1988\n",
      "multiples of 5 are:  1990\n",
      "numbers divisible by 7 are:  1995\n",
      "multiples of 5 are:  1995\n",
      "multiples of 5 are:  2000\n",
      "numbers divisible by 7 are:  2002\n",
      "multiples of 5 are:  2005\n",
      "numbers divisible by 7 are:  2009\n",
      "multiples of 5 are:  2010\n",
      "multiples of 5 are:  2015\n",
      "numbers divisible by 7 are:  2016\n",
      "multiples of 5 are:  2020\n",
      "numbers divisible by 7 are:  2023\n",
      "multiples of 5 are:  2025\n",
      "numbers divisible by 7 are:  2030\n",
      "multiples of 5 are:  2030\n",
      "multiples of 5 are:  2035\n",
      "numbers divisible by 7 are:  2037\n",
      "multiples of 5 are:  2040\n",
      "numbers divisible by 7 are:  2044\n",
      "multiples of 5 are:  2045\n",
      "multiples of 5 are:  2050\n",
      "numbers divisible by 7 are:  2051\n",
      "multiples of 5 are:  2055\n",
      "numbers divisible by 7 are:  2058\n",
      "multiples of 5 are:  2060\n",
      "numbers divisible by 7 are:  2065\n",
      "multiples of 5 are:  2065\n",
      "multiples of 5 are:  2070\n",
      "numbers divisible by 7 are:  2072\n",
      "multiples of 5 are:  2075\n",
      "numbers divisible by 7 are:  2079\n",
      "multiples of 5 are:  2080\n",
      "multiples of 5 are:  2085\n",
      "numbers divisible by 7 are:  2086\n",
      "multiples of 5 are:  2090\n",
      "numbers divisible by 7 are:  2093\n",
      "multiples of 5 are:  2095\n",
      "numbers divisible by 7 are:  2100\n",
      "multiples of 5 are:  2100\n",
      "multiples of 5 are:  2105\n",
      "numbers divisible by 7 are:  2107\n",
      "multiples of 5 are:  2110\n",
      "numbers divisible by 7 are:  2114\n",
      "multiples of 5 are:  2115\n",
      "multiples of 5 are:  2120\n",
      "numbers divisible by 7 are:  2121\n",
      "multiples of 5 are:  2125\n",
      "numbers divisible by 7 are:  2128\n",
      "multiples of 5 are:  2130\n",
      "numbers divisible by 7 are:  2135\n",
      "multiples of 5 are:  2135\n",
      "multiples of 5 are:  2140\n",
      "numbers divisible by 7 are:  2142\n",
      "multiples of 5 are:  2145\n",
      "numbers divisible by 7 are:  2149\n",
      "multiples of 5 are:  2150\n",
      "multiples of 5 are:  2155\n",
      "numbers divisible by 7 are:  2156\n",
      "multiples of 5 are:  2160\n",
      "numbers divisible by 7 are:  2163\n",
      "multiples of 5 are:  2165\n",
      "numbers divisible by 7 are:  2170\n",
      "multiples of 5 are:  2170\n",
      "multiples of 5 are:  2175\n",
      "numbers divisible by 7 are:  2177\n",
      "multiples of 5 are:  2180\n",
      "numbers divisible by 7 are:  2184\n",
      "multiples of 5 are:  2185\n",
      "multiples of 5 are:  2190\n",
      "numbers divisible by 7 are:  2191\n",
      "multiples of 5 are:  2195\n",
      "numbers divisible by 7 are:  2198\n",
      "multiples of 5 are:  2200\n",
      "numbers divisible by 7 are:  2205\n",
      "multiples of 5 are:  2205\n",
      "multiples of 5 are:  2210\n",
      "numbers divisible by 7 are:  2212\n",
      "multiples of 5 are:  2215\n",
      "numbers divisible by 7 are:  2219\n",
      "multiples of 5 are:  2220\n",
      "multiples of 5 are:  2225\n",
      "numbers divisible by 7 are:  2226\n",
      "multiples of 5 are:  2230\n",
      "numbers divisible by 7 are:  2233\n",
      "multiples of 5 are:  2235\n",
      "numbers divisible by 7 are:  2240\n",
      "multiples of 5 are:  2240\n",
      "multiples of 5 are:  2245\n",
      "numbers divisible by 7 are:  2247\n",
      "multiples of 5 are:  2250\n",
      "numbers divisible by 7 are:  2254\n",
      "multiples of 5 are:  2255\n",
      "multiples of 5 are:  2260\n",
      "numbers divisible by 7 are:  2261\n",
      "multiples of 5 are:  2265\n",
      "numbers divisible by 7 are:  2268\n",
      "multiples of 5 are:  2270\n",
      "numbers divisible by 7 are:  2275\n",
      "multiples of 5 are:  2275\n",
      "multiples of 5 are:  2280\n",
      "numbers divisible by 7 are:  2282\n",
      "multiples of 5 are:  2285\n",
      "numbers divisible by 7 are:  2289\n",
      "multiples of 5 are:  2290\n",
      "multiples of 5 are:  2295\n",
      "numbers divisible by 7 are:  2296\n",
      "multiples of 5 are:  2300\n",
      "numbers divisible by 7 are:  2303\n",
      "multiples of 5 are:  2305\n",
      "numbers divisible by 7 are:  2310\n",
      "multiples of 5 are:  2310\n",
      "multiples of 5 are:  2315\n",
      "numbers divisible by 7 are:  2317\n",
      "multiples of 5 are:  2320\n",
      "numbers divisible by 7 are:  2324\n",
      "multiples of 5 are:  2325\n",
      "multiples of 5 are:  2330\n",
      "numbers divisible by 7 are:  2331\n",
      "multiples of 5 are:  2335\n",
      "numbers divisible by 7 are:  2338\n",
      "multiples of 5 are:  2340\n",
      "numbers divisible by 7 are:  2345\n",
      "multiples of 5 are:  2345\n",
      "multiples of 5 are:  2350\n",
      "numbers divisible by 7 are:  2352\n",
      "multiples of 5 are:  2355\n",
      "numbers divisible by 7 are:  2359\n",
      "multiples of 5 are:  2360\n",
      "multiples of 5 are:  2365\n",
      "numbers divisible by 7 are:  2366\n",
      "multiples of 5 are:  2370\n",
      "numbers divisible by 7 are:  2373\n",
      "multiples of 5 are:  2375\n",
      "numbers divisible by 7 are:  2380\n",
      "multiples of 5 are:  2380\n",
      "multiples of 5 are:  2385\n",
      "numbers divisible by 7 are:  2387\n",
      "multiples of 5 are:  2390\n",
      "numbers divisible by 7 are:  2394\n",
      "multiples of 5 are:  2395\n",
      "multiples of 5 are:  2400\n",
      "numbers divisible by 7 are:  2401\n",
      "multiples of 5 are:  2405\n",
      "numbers divisible by 7 are:  2408\n",
      "multiples of 5 are:  2410\n",
      "numbers divisible by 7 are:  2415\n",
      "multiples of 5 are:  2415\n",
      "multiples of 5 are:  2420\n",
      "numbers divisible by 7 are:  2422\n",
      "multiples of 5 are:  2425\n",
      "numbers divisible by 7 are:  2429\n",
      "multiples of 5 are:  2430\n",
      "multiples of 5 are:  2435\n",
      "numbers divisible by 7 are:  2436\n",
      "multiples of 5 are:  2440\n",
      "numbers divisible by 7 are:  2443\n",
      "multiples of 5 are:  2445\n",
      "numbers divisible by 7 are:  2450\n",
      "multiples of 5 are:  2450\n",
      "multiples of 5 are:  2455\n",
      "numbers divisible by 7 are:  2457\n",
      "multiples of 5 are:  2460\n",
      "numbers divisible by 7 are:  2464\n",
      "multiples of 5 are:  2465\n",
      "multiples of 5 are:  2470\n",
      "numbers divisible by 7 are:  2471\n",
      "multiples of 5 are:  2475\n",
      "numbers divisible by 7 are:  2478\n",
      "multiples of 5 are:  2480\n",
      "numbers divisible by 7 are:  2485\n",
      "multiples of 5 are:  2485\n",
      "multiples of 5 are:  2490\n",
      "numbers divisible by 7 are:  2492\n",
      "multiples of 5 are:  2495\n",
      "numbers divisible by 7 are:  2499\n",
      "multiples of 5 are:  2500\n",
      "multiples of 5 are:  2505\n",
      "numbers divisible by 7 are:  2506\n",
      "multiples of 5 are:  2510\n",
      "numbers divisible by 7 are:  2513\n",
      "multiples of 5 are:  2515\n",
      "numbers divisible by 7 are:  2520\n",
      "multiples of 5 are:  2520\n",
      "multiples of 5 are:  2525\n",
      "numbers divisible by 7 are:  2527\n",
      "multiples of 5 are:  2530\n",
      "numbers divisible by 7 are:  2534\n",
      "multiples of 5 are:  2535\n",
      "multiples of 5 are:  2540\n",
      "numbers divisible by 7 are:  2541\n",
      "multiples of 5 are:  2545\n",
      "numbers divisible by 7 are:  2548\n",
      "multiples of 5 are:  2550\n",
      "numbers divisible by 7 are:  2555\n",
      "multiples of 5 are:  2555\n",
      "multiples of 5 are:  2560\n",
      "numbers divisible by 7 are:  2562\n",
      "multiples of 5 are:  2565\n",
      "numbers divisible by 7 are:  2569\n",
      "multiples of 5 are:  2570\n",
      "multiples of 5 are:  2575\n",
      "numbers divisible by 7 are:  2576\n",
      "multiples of 5 are:  2580\n",
      "numbers divisible by 7 are:  2583\n",
      "multiples of 5 are:  2585\n",
      "numbers divisible by 7 are:  2590\n",
      "multiples of 5 are:  2590\n",
      "multiples of 5 are:  2595\n",
      "numbers divisible by 7 are:  2597\n",
      "multiples of 5 are:  2600\n",
      "numbers divisible by 7 are:  2604\n",
      "multiples of 5 are:  2605\n",
      "multiples of 5 are:  2610\n",
      "numbers divisible by 7 are:  2611\n",
      "multiples of 5 are:  2615\n",
      "numbers divisible by 7 are:  2618\n",
      "multiples of 5 are:  2620\n",
      "numbers divisible by 7 are:  2625\n",
      "multiples of 5 are:  2625\n",
      "multiples of 5 are:  2630\n",
      "numbers divisible by 7 are:  2632\n",
      "multiples of 5 are:  2635\n",
      "numbers divisible by 7 are:  2639\n",
      "multiples of 5 are:  2640\n",
      "multiples of 5 are:  2645\n",
      "numbers divisible by 7 are:  2646\n",
      "multiples of 5 are:  2650\n",
      "numbers divisible by 7 are:  2653\n",
      "multiples of 5 are:  2655\n",
      "numbers divisible by 7 are:  2660\n",
      "multiples of 5 are:  2660\n",
      "multiples of 5 are:  2665\n",
      "numbers divisible by 7 are:  2667\n",
      "multiples of 5 are:  2670\n",
      "numbers divisible by 7 are:  2674\n",
      "multiples of 5 are:  2675\n",
      "multiples of 5 are:  2680\n",
      "numbers divisible by 7 are:  2681\n",
      "multiples of 5 are:  2685\n",
      "numbers divisible by 7 are:  2688\n",
      "multiples of 5 are:  2690\n",
      "numbers divisible by 7 are:  2695\n",
      "multiples of 5 are:  2695\n",
      "multiples of 5 are:  2700\n"
     ]
    }
   ],
   "source": [
    "for i in range(1500, 2701):\n",
    "#     print (i)\n",
    "    needed_num = i % 7\n",
    "    needed_num2 = i % 5\n",
    "    if needed_num == 0:\n",
    "        print(\"numbers divisible by 7 are: \", i)\n",
    "        \n",
    "    if needed_num2 == 0:\n",
    "        print(\"multiples of 5 are: \",i)"
   ]
  },
  {
   "cell_type": "code",
   "execution_count": null,
   "id": "725fb426",
   "metadata": {},
   "outputs": [],
   "source": [
    "num = int(input())\n",
    "modu = num % 4\n",
    "if modu == 0:\n",
    "    print (\"cool\")\n",
    "else:\n",
    "    print (\"bad\")\n"
   ]
  },
  {
   "cell_type": "code",
   "execution_count": 4,
   "id": "7e354213",
   "metadata": {},
   "outputs": [
    {
     "name": "stdout",
     "output_type": "stream",
     "text": [
      "Guess a number between 1 and 10 until you get it right : 5\n",
      "Guess a number between 1 and 10 until you get it right : 6\n",
      "Well guessed!\n"
     ]
    }
   ],
   "source": [
    "import random\n",
    "target_num, guess_num = random.randint(1, 10), 0\n",
    "while target_num != guess_num:\n",
    "    guess_num = int(input('Guess a number between 1 and 10 until you get it right : '))\n",
    "print('Well guessed!')"
   ]
  },
  {
   "cell_type": "code",
   "execution_count": null,
   "id": "5486e178",
   "metadata": {},
   "outputs": [],
   "source": [
    "import numpy as np\n",
    "\n",
    "List = list(input())\n",
    "Slist = np.array(List)\n",
    "print(Slist)\n",
    "print(sum(Slist))"
   ]
  },
  {
   "cell_type": "code",
   "execution_count": null,
   "id": "5c992c16",
   "metadata": {},
   "outputs": [],
   "source": []
  },
  {
   "cell_type": "code",
   "execution_count": 7,
   "id": "3866a989",
   "metadata": {},
   "outputs": [
    {
     "name": "stdout",
     "output_type": "stream",
     "text": [
      "Hi mike Julius \n"
     ]
    }
   ],
   "source": [
    "def names(fname):\n",
    "#     fname = input(\"What is your First Name: \")\n",
    "    print(f\"Hi {fname} Julius \" )\n",
    "#     return fname\n",
    "    \n",
    "names(\"mike\")    "
   ]
  },
  {
   "cell_type": "code",
   "execution_count": 12,
   "id": "8447d4a4",
   "metadata": {},
   "outputs": [
    {
     "name": "stdout",
     "output_type": "stream",
     "text": [
      "tear\n",
      "rear\n",
      "tear and rear are not anagram.\n"
     ]
    }
   ],
   "source": [
    "str1 = input()\n",
    "str2 = input()\n",
    "\n",
    "# convert both the strings into lowercase\n",
    "str1 = str1.lower()\n",
    "str2 = str2.lower()\n",
    "\n",
    "# check if length is same\n",
    "if(len(str1) == len(str2)):\n",
    "\n",
    "    # sort the strings\n",
    "    sorted_str1 = sorted(str1)\n",
    "    sorted_str2 = sorted(str2)\n",
    "\n",
    "    # if sorted char arrays are same\n",
    "    if(sorted_str1 == sorted_str2):\n",
    "        print(str1 + \" and \" + str2 + \" are anagram.\")\n",
    "    else:\n",
    "        print(str1 + \" and \" + str2 + \" are not anagram.\")\n",
    "\n",
    "else:\n",
    "    print(str1 + \" and \" + str2 + \" are not anagram.\")"
   ]
  },
  {
   "cell_type": "code",
   "execution_count": null,
   "id": "fa4e682b",
   "metadata": {},
   "outputs": [],
   "source": [
    "def find_anagrams(word):\n",
    "    # [assignment] Add your code here\n",
    "    string1 = input(\"Type in a word of your choice: \")\n",
    "    string2 = input(\"Type in a word of your choice: \")\n",
    "    \n",
    "    string1 = string1.upper()\n",
    "    string2 = string2.upper()\n",
    "    \n",
    "    if len(string1) == len(string2):\n",
    "        if sorted(string1) == sorted(string2):\n",
    "            return True\n",
    "        else:\n",
    "            return False\n",
    "    else: \n",
    "        return False\n",
    "\n",
    "    \n",
    "print(find_anagrams())"
   ]
  },
  {
   "cell_type": "code",
   "execution_count": null,
   "id": "dd63a8ec",
   "metadata": {},
   "outputs": [],
   "source": [
    "def find_anagrams():\n",
    "    # [assignment] Add your code here\n",
    "    string1 = input(\"Type in a word of your choice: \")\n",
    "    string2 = input(\"Type in a word of your choice: \")\n",
    "    \n",
    "    string1 = string1.upper()\n",
    "    string2 = string2.upper()\n",
    "    \n",
    "    if len(string1) == len(string2):\n",
    "        if sorted(string1) == sorted(string2):\n",
    "            return True\n",
    "        else:\n",
    "            return False\n",
    "    else: \n",
    "        return False\n",
    "        \n",
    "    \n",
    "    \n",
    "\n",
    "    \n",
    "find_anagrams()    "
   ]
  },
  {
   "cell_type": "code",
   "execution_count": null,
   "id": "8fd4a8fc",
   "metadata": {},
   "outputs": [],
   "source": []
  }
 ],
 "metadata": {
  "kernelspec": {
   "display_name": "Python 3 (ipykernel)",
   "language": "python",
   "name": "python3"
  },
  "language_info": {
   "codemirror_mode": {
    "name": "ipython",
    "version": 3
   },
   "file_extension": ".py",
   "mimetype": "text/x-python",
   "name": "python",
   "nbconvert_exporter": "python",
   "pygments_lexer": "ipython3",
   "version": "3.9.7"
  }
 },
 "nbformat": 4,
 "nbformat_minor": 5
}
